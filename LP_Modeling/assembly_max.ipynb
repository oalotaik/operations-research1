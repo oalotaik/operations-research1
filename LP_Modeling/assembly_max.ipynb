{
 "cells": [
  {
   "cell_type": "code",
   "execution_count": 1,
   "metadata": {},
   "outputs": [],
   "source": [
    "# importing pulp\n",
    "from pulp import *"
   ]
  },
  {
   "cell_type": "markdown",
   "metadata": {},
   "source": [
    "### Maximizing the production of an assembly\n",
    "\n",
    "A company manufactures an assembly consisting of a frame, a shaft, and a ball bearing. The company manufactures the shafts and frames but purchases the ball bearings from a ball bearing manufacturer. Each shaft must be processed on a forging machine, a lathe, and grinder. These operations require 0.5 hours, 0.2 hours, and 0.3 hours per shaft, respectively. Each frame requires 0.8 hours on a forging machine, 0.1 hours on a drilling machine, 0.3 hours on a milling machine, and 0.5 hours on a grinder. The company has 5 lathes, 10 grinders, 20 forging machines, 3 drillers, and 6 millers. Assume that each machine operates a maximum of 2400 hours per year. Formulate the problem of finding the maximum number of assembled components that can be produced as a linear program."
   ]
  },
  {
   "cell_type": "markdown",
   "metadata": {},
   "source": [
    "### Constraints (machine hours)\n",
    "\n",
    "$$ (Forging)   \\ \\  0.5x_{1} + 0.8x_{2} \\leq 48000 $$\n",
    "\n",
    "$$ (Lathe)   \\ \\  0.2x_{1}  \\leq 12000 $$\n",
    "\n",
    "$$ (Driller)   \\ \\  0.1x_{2}  \\leq 7200 $$\n",
    "\n",
    "$$ (Grinding)   \\ \\  0.3x_{1} + 0.5x_{2} \\leq 24000 $$\n",
    "\n",
    "$$ (Miller)   \\ \\  0.3x_{2}  \\leq 14400 $$"
   ]
  },
  {
   "cell_type": "markdown",
   "metadata": {},
   "source": [
    "### Objective Function Formulation (correct version)\n",
    "\n",
    "Let the decision variables $x_{1}$ and $x_{2}$ represent the number of produced shafts and frames, respectively. The correct formulation is to maximize a new variable that we call $z$ ($ Max \\ z $). Then we restrict $z$ to be less than or equal $x_{1}$ and $x_{2}$ ($z \\leq x_{1}$ and $z \\leq x_{2}$). The rest of the formulation is in the code cell below."
   ]
  },
  {
   "cell_type": "code",
   "execution_count": 2,
   "metadata": {},
   "outputs": [
    {
     "name": "stdout",
     "output_type": "stream",
     "text": [
      "Make 30000.0 units of shafts\n",
      "Make 30000.0 units of frames\n"
     ]
    }
   ],
   "source": [
    "# Initialize Class\n",
    "model = LpProblem('assembly_max', sense=LpMaximize)\n",
    "# define decision variables\n",
    "x1 = LpVariable('x1', lowBound=0, upBound=None)\n",
    "x2 = LpVariable('x2', lowBound=0, upBound=None)\n",
    "Z = LpVariable('Z', lowBound=0, upBound=None)\n",
    "# objective function\n",
    "model += Z\n",
    "# constraints\n",
    "model += 0.5*x1 + 0.8*x2 <= 48000  # forging machine hours = 2400*number of forging machines\n",
    "model += 0.2*x1 <= 12000           # lathe machine hours\n",
    "model += 0.1*x2 <= 7200            # drilling machine hours\n",
    "model += 0.3*x1 + 0.5*x2 <= 24000  # grinding machine hours\n",
    "model += 0.3*x2 <= 14400           # milling machine hours\n",
    "model += Z <= x1\n",
    "model += Z <= x2\n",
    "# solve the model\n",
    "model.solve()\n",
    "print('Make {} units of shafts'.format(x1.varValue))\n",
    "print('Make {} units of frames'.format(x2.varValue))"
   ]
  },
  {
   "cell_type": "markdown",
   "metadata": {},
   "source": [
    "**As we can see, the solution is to make $30,000$ shafts and $30,000$ frames. Since each assembly consists of a shaft and a frame, this solution allows us to make $30,000$ final (assembled) products**"
   ]
  },
  {
   "cell_type": "markdown",
   "metadata": {},
   "source": [
    "### Objective Function Formulation (wrong version)\n",
    "\n",
    "In case we let the objective function be $Max \\ x_{1} + x_{2}$, which is not correct, then the formulation would be as follows:"
   ]
  },
  {
   "cell_type": "code",
   "execution_count": 3,
   "metadata": {},
   "outputs": [
    {
     "name": "stdout",
     "output_type": "stream",
     "text": [
      "Make 60000.0 units of shafts\n",
      "Make 12000.0 units of frames\n"
     ]
    }
   ],
   "source": [
    "# Initialize Class\n",
    "model = LpProblem('assembly_max', sense=LpMaximize)\n",
    "# define decision variables\n",
    "x1 = LpVariable('x1', lowBound=0, upBound=None)\n",
    "x2 = LpVariable('x2', lowBound=0, upBound=None)\n",
    "# objective function\n",
    "model += x1 + x2\n",
    "# constraints\n",
    "model += 0.5*x1 + 0.8*x2 <= 48000  # forging machine hours\n",
    "model += 0.2*x1 <= 12000           # lathe machine hours\n",
    "model += 0.1*x2 <= 7200            # drilling machine hours\n",
    "model += 0.3*x1 + 0.5*x2 <= 24000  # grinding machine hours\n",
    "model += 0.3*x2 <= 14400           # milling machine hours\n",
    "# solve the model\n",
    "model.solve()\n",
    "print('Make {} units of shafts'.format(x1.varValue))\n",
    "print('Make {} units of frames'.format(x2.varValue))"
   ]
  },
  {
   "cell_type": "markdown",
   "metadata": {},
   "source": [
    "**As we can see, the solution is to make $60,000$ shafts and $12,000$ frames. Since we need a shaft and a frame to make one final (assembled) product, this solution allows us to make only $12,000$ products. This means that we will not use all the produced shafts; and the remaining $60,000-12,000 = 48,000$ shafts would be thrown away as waste**"
   ]
  },
  {
   "cell_type": "code",
   "execution_count": null,
   "metadata": {},
   "outputs": [],
   "source": []
  }
 ],
 "metadata": {
  "kernelspec": {
   "display_name": "Python 3",
   "language": "python",
   "name": "python3"
  },
  "language_info": {
   "codemirror_mode": {
    "name": "ipython",
    "version": 3
   },
   "file_extension": ".py",
   "mimetype": "text/x-python",
   "name": "python",
   "nbconvert_exporter": "python",
   "pygments_lexer": "ipython3",
   "version": "3.7.1"
  }
 },
 "nbformat": 4,
 "nbformat_minor": 2
}
