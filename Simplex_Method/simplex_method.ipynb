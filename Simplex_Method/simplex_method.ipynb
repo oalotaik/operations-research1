{
 "cells": [
  {
   "cell_type": "markdown",
   "metadata": {},
   "source": [
    "**Standard Form**\n",
    "\n",
    "$$ (Min)Max \\ z = c^{t}x \\\\ Ax \\leq b \\\\ x \\geq 0 $$"
   ]
  },
  {
   "cell_type": "markdown",
   "metadata": {},
   "source": [
    "n = number of variables in the std form\n",
    "\n",
    "m = number of constraints, excluding non-negativity consts "
   ]
  },
  {
   "cell_type": "markdown",
   "metadata": {},
   "source": [
    "> **Note**: each corner point has n-m zero variables."
   ]
  },
  {
   "cell_type": "markdown",
   "metadata": {},
   "source": [
    "**corner point**: a feasible solution that has (at least) n-m zero variables, aka Basic Feasible Solution (BFS)\n",
    "\n",
    "> The m **non-zero** variables are called **basic variables**"
   ]
  },
  {
   "cell_type": "code",
   "execution_count": 1,
   "metadata": {},
   "outputs": [],
   "source": [
    "import math\n",
    "from scipy.spatial import HalfspaceIntersection, ConvexHull\n",
    "import matplotlib.pyplot as plt\n",
    "from matplotlib.patches import Polygon\n",
    "import numpy as np\n",
    "from simplex_functions import *"
   ]
  },
  {
   "cell_type": "markdown",
   "metadata": {},
   "source": [
    "**Example**\n",
    "\n",
    "Below we solve the following linear program:\n",
    "\n",
    "Objective function: $$ Max \\ z = 3x + 5y $$\n",
    "Constraints: $$  x + 2y \\leq 6 \\\\ 2x + 3y \\leq 10 \\\\ x + y \\leq 5 \\\\ x \\leq 4 \\\\ y \\leq 3 \\\\ x, y \\geq 0 $$"
   ]
  },
  {
   "cell_type": "code",
   "execution_count": 2,
   "metadata": {},
   "outputs": [],
   "source": [
    "c = [3, 5, 0, 0, 0]\n",
    "A = [\n",
    "    [1, 2, 1, 0, 0],\n",
    "    [2, 3, 0, 1, 0],\n",
    "    [1, 0, 0, 0, 1]\n",
    "]\n",
    "b = [6, 10, 4]"
   ]
  },
  {
   "cell_type": "code",
   "execution_count": 3,
   "metadata": {},
   "outputs": [
    {
     "data": {
      "image/png": "[encoded data removed]",
      "text/plain": [
       "<Figure size 432x288 with 1 Axes>"
      ]
     },
     "metadata": {
      "needs_background": "light"
     },
     "output_type": "display_data"
    }
   ],
   "source": [
    "halfspaces = [\n",
    "    [-1, 0, 0],    # x₁ ≥ 0\n",
    "    [0, -1, 0],    # x₂ ≥ 0\n",
    "    [1, 2, -6],    # x₁ + 2x₂ ≤ 6\n",
    "    [2, 3, -10],    # 2x₁ + 3x₂ ≤ 10\n",
    "    [1, 0, -4],    # x₁ ≤ 4\n",
    "]\n",
    "feasible_point = np.array([0.01, 0.01])\n",
    "xlim = (-1, 5)\n",
    "ylim = (-1, 4.5)\n",
    "render_inequalities(halfspaces, feasible_point, xlim, ylim)\n",
    "plt.show()"
   ]
  },
  {
   "cell_type": "code",
   "execution_count": 4,
   "metadata": {},
   "outputs": [
    {
     "name": "stdout",
     "output_type": "stream",
     "text": [
      "solution:  [1.9999999999999991, 2.0000000000000004, 0, 0, 2.000000000000001]\n"
     ]
    }
   ],
   "source": [
    "solution = simplex(c, A, b)\n",
    "print('solution: ', solution)"
   ]
  },
  {
   "cell_type": "code",
   "execution_count": 5,
   "metadata": {},
   "outputs": [
    {
     "name": "stdout",
     "output_type": "stream",
     "text": [
      "Iterations:  [[0, 0, 6, 10, 4], [4.0, 0, 2.0, 2.0, 0], [4.0, 0.6666666666666666, 0.6666666666666667, 0, 0], [1.9999999999999991, 2.0000000000000004, 0, 0, 2.000000000000001]]\n"
     ]
    },
    {
     "data": {
      "text/plain": [
       "[1.9999999999999991, 2.0000000000000004, 0, 0, 2.000000000000001]"
      ]
     },
     "execution_count": 5,
     "metadata": {},
     "output_type": "execute_result"
    },
    {
     "data": {
      "image/png": "[encoded data removed]",
      "text/plain": [
       "<Figure size 432x288 with 1 Axes>"
      ]
     },
     "metadata": {
      "needs_background": "light"
     },
     "output_type": "display_data"
    }
   ],
   "source": [
    "simplex_with_visualization(c, A, b, halfspaces, feasible_point)"
   ]
  },
  {
   "cell_type": "code",
   "execution_count": null,
   "metadata": {},
   "outputs": [],
   "source": []
  },
  {
   "cell_type": "markdown",
   "metadata": {},
   "source": [
    "**Homework Problem**\n",
    "\n",
    "$$ Max \\ z = 2x_{1} - x_{2} + 2x_{3} \\ s.t. \\ \\\\ x_{1} - x_{2} + 2x_{3} \\leq 20 \\\\ x_{1} + x_{2} - 2x_{3} \\leq 40 \\\\ x_{1}, x_{2}, x_{3} \\geq 0 $$"
   ]
  },
  {
   "cell_type": "code",
   "execution_count": null,
   "metadata": {},
   "outputs": [],
   "source": []
  }
 ],
 "metadata": {
  "kernelspec": {
   "display_name": "Python 3",
   "language": "python",
   "name": "python3"
  },
  "language_info": {
   "codemirror_mode": {
    "name": "ipython",
    "version": 3
   },
   "file_extension": ".py",
   "mimetype": "text/x-python",
   "name": "python",
   "nbconvert_exporter": "python",
   "pygments_lexer": "ipython3",
   "version": "3.7.1"
  }
 },
 "nbformat": 4,
 "nbformat_minor": 2
}
